{
 "cells": [
  {
   "cell_type": "markdown",
   "id": "0d040385",
   "metadata": {},
   "source": [
    "# READ BEFORE RUNNING THE NOTEBOOK"
   ]
  },
  {
   "cell_type": "markdown",
   "id": "a1f4909a",
   "metadata": {},
   "source": [
    "### Run the following command in the shell before running the notebook\n",
    "```conda env create -f environment.yml -n Project_Barklow && conda activate Project_Barklow```"
   ]
  },
  {
   "cell_type": "code",
   "execution_count": 3,
   "id": "0fc92f8c",
   "metadata": {},
   "outputs": [],
   "source": [
    "import zipfile\n",
    "with zipfile.ZipFile(\"pb_data.zip\",\"r\") as zip_ref:\n",
    "    zip_ref.extractall(\".\")"
   ]
  },
  {
   "cell_type": "markdown",
   "id": "087f2e41",
   "metadata": {},
   "source": [
    "* Some functions get defined in multiple places just to make reading the code easier."
   ]
  },
  {
   "cell_type": "code",
   "execution_count": 4,
   "id": "20067ade",
   "metadata": {
    "scrolled": false
   },
   "outputs": [
    {
     "name": "stderr",
     "output_type": "stream",
     "text": [
      "Using Spark's default log4j profile: org/apache/spark/log4j-defaults.properties\n",
      "Setting default log level to \"WARN\".\n",
      "To adjust logging level use sc.setLogLevel(newLevel). For SparkR, use setLogLevel(newLevel).\n",
      "22/05/05 02:43:02 WARN NativeCodeLoader: Unable to load native-hadoop library for your platform... using builtin-java classes where applicable\n"
     ]
    }
   ],
   "source": [
    "import pandas,numpy,os,random,csv,ast\n",
    "from pyspark import SparkContext\n",
    "from pyspark.mllib.clustering import KMeans\n",
    "from matplotlib import pyplot as plt\n",
    "\n",
    "sc = SparkContext.getOrCreate()\n",
    "def processCsvDirectory(path):\n",
    "    \n",
    "    timeData = {}\n",
    "    with os.scandir(path) as files:\n",
    "        for x,file in enumerate(files):\n",
    "            if file.name.endswith('.csv') and file.is_file():\n",
    "                gameDF = pandas.read_csv(path + file.name,dtype={'Time':str,'Playercount':float})\n",
    "                gameDF = gameDF.fillna(0)\n",
    "                \n",
    "                appID = file.name.split('.csv')[0]\n",
    "                \n",
    "                timeData[appID] = getActualData(gameDF)       \n",
    "    return timeData\n",
    "\n",
    "def getActualData(frame):\n",
    "    # removing the time stamps from each date, since the lowest interval of data I want to look at is daily\n",
    "    times = [x.split(' ')[0] for x in list(frame['Time'])]\n",
    "    players = list(frame['Playercount'])\n",
    "    \n",
    "\n",
    "    # creating a spark RDD from the list of dates and the list of players counts\n",
    "    datePlayer = list(zip(times, players))\n",
    "    coolRDD = sc.parallelize(datePlayer)\n",
    "\n",
    "    # max daily player\n",
    "    maxDailyPlayers = coolRDD.reduceByKey(max)\n",
    "     \n",
    "    # reduce to just year with daily peak counts\n",
    "    yearRDD = maxDailyPlayers.map(lambda x: (x[0].split('-')[0], x[1]))\n",
    " \n",
    "    # group into lists\n",
    "    yearListRDD = yearRDD.groupByKey().mapValues(list)\n",
    "    yearlyPeakAVG = yearListRDD.map(lambda x: ( x[0] , sum(x[1])/len(x[1]) ))\n",
    "\n",
    "    return sorted(yearlyPeakAVG.collect(), key=lambda x: x[0])"
   ]
  },
  {
   "cell_type": "markdown",
   "id": "eb1771d7",
   "metadata": {},
   "source": [
    "# Step 1 - Reading in Data"
   ]
  },
  {
   "cell_type": "markdown",
   "id": "58a844b3",
   "metadata": {},
   "source": [
    "### To get the data, I use multiple functions. In the cells below, I show the functions in the general order they process the data in with an explanation of what each one does."
   ]
  },
  {
   "cell_type": "markdown",
   "id": "89d478bd",
   "metadata": {},
   "source": [
    "The first function I use is ```getYearlyData``` which takes a string, either 'from processed' or 'from scratch' which determines whether to completely re-read in the base data and process it again, or use saved data that has already been processesd to save time."
   ]
  },
  {
   "cell_type": "markdown",
   "id": "af7c65ac",
   "metadata": {},
   "source": [
    "```getYearlyData```, if called with 'from processed', just reads in the processed data from a csv file. If it is called with 'from scratch', then it calls another function, ```processCsvDirectory``` with a filepath of a directory containing csv files. In this directory, each csv file represents player count data for a single application. After calling the other functions to get usable data, it calculates the average growth for a game's player count in the years leading up to COVID-19 versus its growth from the year before to the year of the start of signifcant COVID-19 global lockdowns."
   ]
  },
  {
   "cell_type": "code",
   "execution_count": 5,
   "id": "883e8e46",
   "metadata": {},
   "outputs": [],
   "source": [
    "def getYearlyData(method):\n",
    "    timeData = {}\n",
    "    growthList = []\n",
    "\n",
    "    if(method == 'from scratch'):\n",
    "        \n",
    "        timeData = processCsvDirectory('./history/PlayerCountHistoryPart1/')\n",
    "        \n",
    "    elif(method == 'from processed'):\n",
    "        with open('./history/Top1000_YearlyAVG.csv', 'r') as f:\n",
    "            reader = csv.reader(f, delimiter = ',')\n",
    "    \n",
    "            keys = next(reader)\n",
    "            values = next(reader)\n",
    "            newValues = [ast.literal_eval(x) for x in values]\n",
    "            timeData = dict(zip(keys,newValues))\n",
    "\n",
    "           \n",
    "    for k,v in timeData.items():\n",
    "                growthList.append([k,growthRate(v),-1])\n",
    "            \n",
    "    return timeData,growthList\n",
    "\n",
    "def getGrowth(first, last):\n",
    "    if first == 0:\n",
    "        first = 1\n",
    "        \n",
    "    x = last/first\n",
    "    \n",
    "    y = x**(1/4)\n",
    "    \n",
    "    z = round(((y-1)*100),2)\n",
    "    \n",
    "    return z\n",
    "\n",
    "def growthRate(years):\n",
    "\n",
    "    preCovidGrowth = getGrowth(years[0][1], years[2][1])\n",
    "    \n",
    "    covidGrowth = getGrowth(years[2][1], years[3][1])\n",
    "\n",
    "    return [covidGrowth,preCovidGrowth]   "
   ]
  },
  {
   "cell_type": "code",
   "execution_count": 6,
   "id": "71925a81",
   "metadata": {
    "scrolled": false
   },
   "outputs": [
    {
     "name": "stderr",
     "output_type": "stream",
     "text": [
      "                                                                                \r"
     ]
    }
   ],
   "source": [
    "timeData,growthList = getYearlyData('from scratch')"
   ]
  },
  {
   "cell_type": "markdown",
   "id": "0054ad87",
   "metadata": {},
   "source": [
    "```processCsvDirectory``` takes a directory of csv files, and if found to be a valid file, turns it into a pandas dataframe. Each of these dataframes is passed into another function, ```getActualData```, which is defined below. The results from this function are stored in a dictionary keyed on the ID of the application being processed."
   ]
  },
  {
   "cell_type": "code",
   "execution_count": 7,
   "id": "fe56d700",
   "metadata": {},
   "outputs": [],
   "source": [
    "def processCsvDirectory(path):\n",
    "    \n",
    "    timeData = {}\n",
    "    with os.scandir(path) as files:\n",
    "        for x,file in enumerate(files):\n",
    "            print(file.name,x)\n",
    "            if file.name.endswith('.csv') and file.is_file():\n",
    "                gameDF = pandas.read_csv(path + file.name,dtype={'Time':str,'Playercount':float})\n",
    "                gameDF = gameDF.fillna(0)\n",
    "                \n",
    "                appID = file.name.split('.csv')[0]\n",
    "                \n",
    "                timeData[appID] = getActualData(gameDF)\n",
    "                \n",
    "    return timeData"
   ]
  },
  {
   "cell_type": "markdown",
   "id": "b9683afd",
   "metadata": {},
   "source": [
    "The reason that ```getActualData``` to exist is due to the format of the csv files. Each csv file contains the playercount of an application every 15 minutes for 4 years. This means that each file tends to contain hundreds of thousands of lines. To process all of this in a reasonable amount, I make use of Map and Reduce with Spark. I turn each line of data into only its year as the identifier, and then reduce the keys into first the peak player count of an application for each day, then a list of peak player counts for each year, and finally an average peak daily player count for each year."
   ]
  },
  {
   "cell_type": "code",
   "execution_count": 8,
   "id": "dbabfca5",
   "metadata": {},
   "outputs": [],
   "source": [
    "def getActualData(frame):\n",
    "    \n",
    "    # removing the time stamps from each date, since the lowest interval of data I want to look at is daily\n",
    "    times = [x.split(' ')[0] for x in list(frame['Time'])]\n",
    "    players = list(frame['Playercount'])\n",
    "    \n",
    "    # creating a spark RDD from the list of dates and the list of players counts\n",
    "    datePlayer = list(zip(times, players))\n",
    "    coolRDD = sc.parallelize(datePlayer)\n",
    "    \n",
    "    # max daily player\n",
    "    maxDailyPlayers = coolRDD.reduceByKey(max)\n",
    " \n",
    "    # reduce to just year with daily peak counts\n",
    "    yearRDD = maxDailyPlayers.map(lambda x: (x[0].split('-')[0], x[1]))\n",
    "\n",
    "    # group into lists\n",
    "    yearListRDD = yearRDD.groupByKey().mapValues(list)\n",
    "    yearlyPeakAVG = yearListRDD.map(lambda x: ( x[0] , sum(x[1])/len(x[1]) ))\n",
    "\n",
    "    return sorted(yearlyPeakAVG.collect(), key=lambda x: x[0])"
   ]
  },
  {
   "cell_type": "markdown",
   "id": "fc97a337",
   "metadata": {},
   "source": [
    "Here, I read in other useful CSV files, like one that maps the name of an application to its ID, and the one used to store the genre tags of each application."
   ]
  },
  {
   "cell_type": "code",
   "execution_count": 9,
   "id": "e1c8271c",
   "metadata": {
    "scrolled": false
   },
   "outputs": [],
   "source": [
    "appInfo = pandas.read_csv(\"./csv/applicationInformation.csv\", encoding_errors=\"ignore\")\n",
    "cols = [str(x) for x in range(0,60)]\n",
    "appGenres = pandas.read_csv(\"./csv/applicationTags.csv\",names=cols,encoding_errors=\"ignore\",header=None)\n",
    "appGenres.fillna('',inplace=True)\n",
    "genreDict = appGenres.set_index('0').T.to_dict('list')\n",
    "filterg = pandas.read_csv(\"./csv/applicationGenres.csv\",names=cols,encoding_errors=\"ignore\",header=None)\n",
    "\n",
    "ids = list(appInfo['appid'])\n",
    "names = list(appInfo['name'])\n",
    "idName = dict(zip(ids,names))"
   ]
  },
  {
   "cell_type": "markdown",
   "id": "c2d24a29",
   "metadata": {},
   "source": [
    "# Step 2 - Clustering"
   ]
  },
  {
   "cell_type": "markdown",
   "id": "c340595c",
   "metadata": {},
   "source": [
    "### Although it is easy to get the conclusion that the general player count of games went up during COVID-19, I wanted to do a deeper analysis, specifically on which games were affected in what ways. To do this, I use Spark and Kmeans to cluster all of the 1000 games by the average growths of pre versus post covid population numbers."
   ]
  },
  {
   "cell_type": "markdown",
   "id": "310cb763",
   "metadata": {},
   "source": [
    "Below, I calculate what the optimal value of K would be using the elbow method."
   ]
  },
  {
   "cell_type": "code",
   "execution_count": 10,
   "id": "2834b13e",
   "metadata": {
    "scrolled": true
   },
   "outputs": [
    {
     "data": {
      "text/plain": [
       "[<matplotlib.lines.Line2D at 0x7f5cb5fe9d60>]"
      ]
     },
     "execution_count": 10,
     "metadata": {},
     "output_type": "execute_result"
    },
    {
     "data": {
      "image/png": "[encoded data removed]",
      "text/plain": [
       "<Figure size 432x288 with 1 Axes>"
      ]
     },
     "metadata": {
      "needs_background": "light"
     },
     "output_type": "display_data"
    }
   ],
   "source": [
    "growthRDD = sc.parallelize([x[1] for x in growthList])  \n",
    "computeList = []\n",
    "K = [*range(2,11)]\n",
    "\n",
    "for x in K:\n",
    "    model = KMeans.train(growthRDD, x, maxIterations=10, initializationMode='random')\n",
    "    computeList.append(model.computeCost(growthRDD))\n",
    "\n",
    "plt.plot(K, computeList)\n",
    "        "
   ]
  },
  {
   "cell_type": "markdown",
   "id": "2954fdbe",
   "metadata": {},
   "source": [
    "Below, I define and run a function that clusters the data, and returns the cluster ids of each data point. It then creates a data structure to map the cluster id to each application."
   ]
  },
  {
   "cell_type": "code",
   "execution_count": 11,
   "id": "b4a5a14f",
   "metadata": {},
   "outputs": [],
   "source": [
    "def clusterData(data, K):\n",
    "    model = KMeans.train(data, K, maxIterations=10, initializationMode='random')\n",
    "    cluster_ids = model.predict(data)\n",
    "    return data,cluster_ids.collect()\n",
    "    \n",
    "K = 6\n",
    "\n",
    "data,clusterids = clusterData(growthRDD,K)\n",
    "\n",
    "for i,x in enumerate(growthList):\n",
    "    growthList[i][2] = (clusterids[i])\n"
   ]
  },
  {
   "cell_type": "markdown",
   "id": "5b1293f6",
   "metadata": {},
   "source": [
    "The below cell performs a few different operations using the data. First, it creates another list to group all of the different clusters into separate lists. Then, it calculates how many of each application in each cluster is tagged with a certain genre. These counts are kept track of in dictionaries. Finally, it calculates what percentage of each cluster is tagged with each genre tag. I opted to not use Spark here since the operations weren't very computationally intensive compared to what I had to do earlier."
   ]
  },
  {
   "cell_type": "code",
   "execution_count": 12,
   "id": "650d62e8",
   "metadata": {},
   "outputs": [],
   "source": [
    "clusterList = [[] for x in range(0,K)]\n",
    "diffList = [[] for x in range(0,K)]\n",
    "genreList = [{} for x in range(0,K)]\n",
    "diffDict = [[] for x in range(0,K)]\n",
    "\n",
    "\n",
    "for x in growthList:\n",
    "    clusterList[x[2]].append(int(x[0]))\n",
    "    \n",
    "for x in growthList:\n",
    "    diffList[x[2]].append((int(x[0]),x[1]))\n",
    "                          \n",
    "\n",
    "genreLens = [len(x) for x in clusterList]\n",
    "\n",
    "# get genres for each cluster and data entry\n",
    "for i,x in enumerate(clusterList):\n",
    "    for y in x:\n",
    "        idGenres = genreDict[y]\n",
    "        if 'Multiplayer' in idGenres and 'Singleplayer' in idGenres:\n",
    "            idGenres.remove('Singleplayer')\n",
    "        for z in idGenres:\n",
    "            if z != '':\n",
    "                if z in genreList[i]:\n",
    "                    genreList[i][z] += 1\n",
    "                else:\n",
    "                    genreList[i][z] = 1  \n",
    "\n",
    "\n",
    "for i,x in enumerate(genreList):\n",
    "    z = sorted(list(x.items()),key = lambda x: x[1],reverse=True)\n",
    "    genreList[i] = z\n",
    "\n",
    "for i,x in enumerate(genreList):\n",
    "    for j,y in enumerate(x):\n",
    "        genreList[i][j] = (y[0],round((y[1]/genreLens[i]) * 100,2))\n",
    "\n",
    "# calculate average/ percentage        \n",
    "for i,x in enumerate(diffList):\n",
    "    differentialTotal = 0\n",
    "    for y in x:\n",
    "        differential = y[1][0] - y[1][1]\n",
    "        differentialTotal += differential\n",
    "        \n",
    "    differentialAvg = differentialTotal/len(x)\n",
    "    \n",
    "    diffDict[i] = differentialAvg"
   ]
  },
  {
   "cell_type": "markdown",
   "id": "4ad126b6",
   "metadata": {},
   "source": [
    " # Step 3 - Visualization"
   ]
  },
  {
   "cell_type": "markdown",
   "id": "d368fe7f",
   "metadata": {},
   "source": [
    "### To visualize the data I obtained, I use a few different graphing methods with Matplotlib and pyplot."
   ]
  },
  {
   "cell_type": "markdown",
   "id": "2cea2a90",
   "metadata": {},
   "source": [
    "```plotBasicClusters``` takes the data, the cluster ids, and simply maps the clusters in a scatter plot."
   ]
  },
  {
   "cell_type": "code",
   "execution_count": 13,
   "id": "5892dbec",
   "metadata": {},
   "outputs": [],
   "source": [
    "def plotBasicClusters(data, cluster_ids):\n",
    "    data = numpy.array(data.collect())\n",
    "    ax = plt.axes()\n",
    "    ax.set_facecolor('white')\n",
    "    plt.rcParams['figure.facecolor'] = 'white'\n",
    "    plt.scatter(data[:,0], data[:,1], c=cluster_ids, s=1,cmap='tab10')\n",
    " \n",
    "    plt.xlabel('2019-2020 Change')\n",
    "    plt.ylabel('2017-2019 Change')\n",
    "    plt.title('4 Year Increase vs Covid Increase')\n",
    "    plt.colorbar()\n",
    "    plt.axhline(0, color='black',lw=.5)\n",
    "    plt.axvline(0, color='black',lw=.5)\n",
    "    plt.show()\n",
    "    plt.clf()\n",
    "   "
   ]
  },
  {
   "cell_type": "code",
   "execution_count": 14,
   "id": "73d41f1d",
   "metadata": {
    "scrolled": true
   },
   "outputs": [
    {
     "data": {
      "image/png": "[encoded data removed]",
      "text/plain": [
       "<Figure size 432x288 with 2 Axes>"
      ]
     },
     "metadata": {
      "needs_background": "light"
     },
     "output_type": "display_data"
    },
    {
     "data": {
      "text/plain": [
       "<Figure size 432x288 with 0 Axes>"
      ]
     },
     "metadata": {},
     "output_type": "display_data"
    }
   ],
   "source": [
    "plotBasicClusters(data,clusterids)"
   ]
  },
  {
   "cell_type": "markdown",
   "id": "80daee41",
   "metadata": {},
   "source": [
    "```plotCovidChange``` creates a bar chart that represents the differential between the games population growth before and after the onset of COVID."
   ]
  },
  {
   "cell_type": "code",
   "execution_count": 15,
   "id": "c6163094",
   "metadata": {},
   "outputs": [],
   "source": [
    "def plotCovidChange(data):\n",
    "\n",
    "    df = pandas.DataFrame([data],columns = [x for x in range(0,K)] )\n",
    "    df=df.T\n",
    "    df[0].plot(kind='bar')\n",
    "    plt.title(\"Game Cluster Covid Population Differential\")\n",
    "    plt.ylabel(\"Average Covid Pop. Change\")\n",
    "    plt.xlabel(\"Cluster\")\n",
    "    plt.axhline(0, color='black',lw=.3)"
   ]
  },
  {
   "cell_type": "code",
   "execution_count": 16,
   "id": "1ca57c05",
   "metadata": {
    "scrolled": true
   },
   "outputs": [
    {
     "data": {
      "image/png": "[encoded data removed]",
      "text/plain": [
       "<Figure size 432x288 with 1 Axes>"
      ]
     },
     "metadata": {},
     "output_type": "display_data"
    }
   ],
   "source": [
    "plotCovidChange(diffDict)"
   ]
  },
  {
   "cell_type": "markdown",
   "id": "00257979",
   "metadata": {},
   "source": [
    "```plotGenrePercentages``` is used to generate charts representing what percentage of the games were tagged with different genres. I created it in a way that I can easily add a filter of what genres I wanted to display by just adding onto an elif chain that defines a different criteria to generate the plot for. I call this function with the genre comparisons I wanted to see below."
   ]
  },
  {
   "cell_type": "code",
   "execution_count": 17,
   "id": "316c073b",
   "metadata": {},
   "outputs": [],
   "source": [
    "def plotGenrePercentages(data,graphType):\n",
    "    bigList = []\n",
    "    criteria = []\n",
    "    critDict = {}\n",
    "    titleP = \"\"\n",
    "            \n",
    "    for i,x in enumerate(data):      \n",
    "        if(graphType == 'singleMulti'):\n",
    "            criteria = ['Singleplayer','Multiplayer']\n",
    "            titleP = \"Singleplayer v. Multiplayer\"\n",
    "        elif(graphType == 'genre'):\n",
    "            criteria = ['RPG','Shooter','Sports','Simulation','Strategy']\n",
    "            titleP = \"Defining Genre\"\n",
    "        elif(graphType == 'difficult'):\n",
    "            titleP = \"Difficulty\"\n",
    "            criteria = ['Difficult','Casual']\n",
    "            \n",
    "        critDict = {x:-1 for x in criteria}\n",
    "    \n",
    "        for y in x:\n",
    "            if y[0] in critDict:\n",
    "                critDict[y[0]] = y[1]\n",
    "        coolList = list(critDict.values())\n",
    "        coolList.insert(0,i)\n",
    "\n",
    "        bigList.append(coolList)\n",
    "\n",
    "    criteria.insert(0,'Cluster')\n",
    "    plotDf = pandas.DataFrame(bigList,columns=criteria)\n",
    "\n",
    "    plotDf.plot(x='Cluster',kind='bar',stacked=True,title=titleP)\n",
    "    "
   ]
  },
  {
   "cell_type": "markdown",
   "id": "05efe62c",
   "metadata": {},
   "source": [
    "It should be noted that the reason that the percentage of genres adds up to more than 100% is because almost every game will be tagged with multiple genres."
   ]
  },
  {
   "cell_type": "code",
   "execution_count": 18,
   "id": "bac2ff35",
   "metadata": {},
   "outputs": [
    {
     "data": {
      "image/png": "[encoded data removed]",
      "text/plain": [
       "<Figure size 432x288 with 1 Axes>"
      ]
     },
     "metadata": {},
     "output_type": "display_data"
    },
    {
     "data": {
      "image/png": "[encoded data removed]",
      "text/plain": [
       "<Figure size 432x288 with 1 Axes>"
      ]
     },
     "metadata": {},
     "output_type": "display_data"
    },
    {
     "data": {
      "image/png": "[encoded data removed]",
      "text/plain": [
       "<Figure size 432x288 with 1 Axes>"
      ]
     },
     "metadata": {},
     "output_type": "display_data"
    }
   ],
   "source": [
    "plotGenrePercentages(genreList,'singleMulti')\n",
    "plotGenrePercentages(genreList,'difficult')\n",
    "plotGenrePercentages(genreList,'genre')"
   ]
  },
  {
   "cell_type": "markdown",
   "id": "18bc98aa",
   "metadata": {},
   "source": [
    "The charts and visualizations produced as the end product of this notebook will form the basis for the poster of the project."
   ]
  }
 ],
 "metadata": {
  "kernelspec": {
   "display_name": "Python 3 (ipykernel)",
   "language": "python",
   "name": "python3"
  },
  "language_info": {
   "codemirror_mode": {
    "name": "ipython",
    "version": 3
   },
   "file_extension": ".py",
   "mimetype": "text/x-python",
   "name": "python",
   "nbconvert_exporter": "python",
   "pygments_lexer": "ipython3",
   "version": "3.9.7"
  }
 },
 "nbformat": 4,
 "nbformat_minor": 5
}
