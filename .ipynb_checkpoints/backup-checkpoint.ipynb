{
 "cells": [
  {
   "cell_type": "code",
   "execution_count": 1,
   "id": "20067ade",
   "metadata": {},
   "outputs": [
    {
     "name": "stderr",
     "output_type": "stream",
     "text": [
      "Using Spark's default log4j profile: org/apache/spark/log4j-defaults.properties\n",
      "Setting default log level to \"WARN\".\n",
      "To adjust logging level use sc.setLogLevel(newLevel). For SparkR, use setLogLevel(newLevel).\n",
      "22/04/29 05:12:40 WARN NativeCodeLoader: Unable to load native-hadoop library for your platform... using builtin-java classes where applicable\n"
     ]
    }
   ],
   "source": [
    "import pandas,numpy,os,random,csv,ast\n",
    "from pyspark import SparkContext\n",
    "from pyspark.mllib.clustering import KMeans\n",
    "from matplotlib import pyplot as plt\n",
    "\n",
    "sc = SparkContext.getOrCreate()"
   ]
  },
  {
   "cell_type": "code",
   "execution_count": 2,
   "id": "6f2c6113",
   "metadata": {},
   "outputs": [],
   "source": [
    "def getActualData(frame):\n",
    "    \n",
    "    # removing the time stamps from each date, since the lowest interval of data I want to look at is daily\n",
    "    times = [x.split(' ')[0] for x in list(frame['Time'])]\n",
    "    players = list(frame['Playercount'])\n",
    "    \n",
    "    # creating a spark RDD from the list of dates and the list of players counts\n",
    "    datePlayer = list(zip(times, players))\n",
    "    coolRDD = sc.parallelize(datePlayer)\n",
    "    \n",
    "    # max dail yplayer\n",
    "    maxDailyPlayers = coolRDD.reduceByKey(max)\n",
    " \n",
    "    # reduce to just year with daily peak counts\n",
    "    yearRDD = maxDailyPlayers.map(lambda x: (x[0].split('-')[0], x[1]))\n",
    "\n",
    "    # group into lists\n",
    "    yearListRDD = yearRDD.groupByKey().mapValues(list)\n",
    "    yearlyPeakAVG = yearListRDD.map(lambda x: ( x[0] , sum(x[1])/len(x[1]) ))\n",
    "\n",
    "    return sorted(yearlyPeakAVG.collect(), key=lambda x: x[0])\n",
    "\n",
    "def processCsvDirectory(path):\n",
    "    \n",
    "    timeData = {}\n",
    "    with os.scandir(path) as files:\n",
    "        for x,file in enumerate(files):\n",
    "            print(file.name,x)\n",
    "            if file.name.endswith('.csv') and file.is_file():\n",
    "                gameDF = pandas.read_csv(path + file.name,dtype={'Time':str,'Playercount':float})\n",
    "                gameDF = gameDF.fillna(0)\n",
    "                \n",
    "                appID = file.name.split('.csv')[0]\n",
    "                \n",
    "                timeData[appID] = getActualData(gameDF)\n",
    "                \n",
    "    return timeData\n",
    "\n",
    "def getGrowth(first, last):\n",
    "    if first == 0:\n",
    "        first = 1\n",
    "        \n",
    "    x = last/first\n",
    "    \n",
    "    y = x**(1/4)\n",
    "    \n",
    "    z = round(((y-1)*100),2)\n",
    "    \n",
    "    return z\n",
    "\n",
    "def growthRate(years):\n",
    "\n",
    "    preCovidGrowth = getGrowth(years[0][1], years[2][1])\n",
    "    \n",
    "    covidGrowth = getGrowth(years[2][1], years[3][1])\n",
    "\n",
    "    return [covidGrowth,preCovidGrowth]   \n",
    "\n",
    "\n",
    "def getYearlyData(method):\n",
    "    timeData = {}\n",
    "    growthList = []\n",
    "\n",
    "    if(method == 'from scratch'):\n",
    "        \n",
    "        timeData = processCsvDirectory('./history/PlayerCountHistoryPart1/')\n",
    "        \n",
    "    elif(method == 'from processed'):\n",
    "        with open('./history/Top1000_YearlyAVG.csv', 'r') as f:\n",
    "            reader = csv.reader(f, delimiter = ',')\n",
    "    \n",
    "            keys = next(reader)\n",
    "            values = next(reader)\n",
    "            newValues = [ast.literal_eval(x) for x in values]\n",
    "            timeData = dict(zip(keys,newValues))\n",
    "\n",
    "           \n",
    "    for k,v in timeData.items():\n",
    "                growthList.append([k,growthRate(v),-1])\n",
    "            \n",
    "    return timeData,growthList"
   ]
  },
  {
   "cell_type": "code",
   "execution_count": 3,
   "id": "e1c8271c",
   "metadata": {
    "scrolled": false
   },
   "outputs": [],
   "source": [
    "appInfo = pandas.read_csv(\"./csv/applicationInformation.csv\", encoding_errors=\"ignore\")\n",
    "cols = [str(x) for x in range(0,60)]\n",
    "appGenres = pandas.read_csv(\"./csv/applicationTags.csv\",names=cols,encoding_errors=\"ignore\",header=None)\n",
    "appGenres.fillna('',inplace=True)\n",
    "genreDict = appGenres.set_index('0').T.to_dict('list')\n",
    "\n",
    "ids = list(appInfo['appid'])\n",
    "names = list(appInfo['name'])\n",
    "idName = dict(zip(ids,names))\n",
    "\n",
    "\n"
   ]
  },
  {
   "cell_type": "markdown",
   "id": "d09a0d60",
   "metadata": {},
   "source": [
    "# GETDATA"
   ]
  },
  {
   "cell_type": "code",
   "execution_count": 4,
   "id": "4bd1f5b8",
   "metadata": {},
   "outputs": [],
   "source": [
    "\n",
    "timeData,growthList = getYearlyData('from processed')"
   ]
  },
  {
   "cell_type": "markdown",
   "id": "b562633e",
   "metadata": {},
   "source": [
    "# GETDATA"
   ]
  },
  {
   "cell_type": "code",
   "execution_count": 5,
   "id": "989a4cd1",
   "metadata": {},
   "outputs": [],
   "source": [
    "\n",
    "growthRDD = sc.parallelize([x[1] for x in growthList])  "
   ]
  },
  {
   "cell_type": "markdown",
   "id": "c2d24a29",
   "metadata": {},
   "source": [
    "# Step 3 - Clustering"
   ]
  },
  {
   "cell_type": "code",
   "execution_count": 6,
   "id": "2834b13e",
   "metadata": {},
   "outputs": [
    {
     "name": "stderr",
     "output_type": "stream",
     "text": [
      "                                                                                \r"
     ]
    },
    {
     "name": "stdout",
     "output_type": "stream",
     "text": [
      "[2, 3, 4, 5, 6, 7, 8, 9, 10]\n",
      "[800080.2454580637, 592324.1662905039, 509514.91668839933, 365041.44723804865, 332996.1620346043, 284354.82291942893, 265113.8833926707, 236135.71770302017, 221682.64932648215]\n"
     ]
    },
    {
     "data": {
      "text/plain": [
       "[<matplotlib.lines.Line2D at 0x7f792e29a040>]"
      ]
     },
     "execution_count": 6,
     "metadata": {},
     "output_type": "execute_result"
    },
    {
     "data": {
      "image/png": "[encoded data removed]",
      "text/plain": [
       "<Figure size 432x288 with 1 Axes>"
      ]
     },
     "metadata": {
      "needs_background": "light"
     },
     "output_type": "display_data"
    }
   ],
   "source": [
    "computeList = []\n",
    "K = [*range(2,11)]\n",
    "\n",
    "\n",
    "\n",
    "for x in K:\n",
    "    model = KMeans.train(growthRDD, x, maxIterations=10, initializationMode='random')\n",
    "    computeList.append(model.computeCost(growthRDD))\n",
    "    \n",
    "print(K)\n",
    "print(computeList)\n",
    "\n",
    "    \n",
    "plt.plot(K, computeList)\n",
    "        "
   ]
  },
  {
   "cell_type": "code",
   "execution_count": 7,
   "id": "b4a5a14f",
   "metadata": {},
   "outputs": [],
   "source": [
    "\n",
    "def clusterData(data, K):\n",
    " \n",
    "\n",
    "    model = KMeans.train(data, K, maxIterations=10, initializationMode='random')\n",
    "\n",
    "    cluster_ids = model.predict(data)\n",
    "\n",
    "   \n",
    "    return data,cluster_ids.collect()\n",
    "    \n",
    "K = 7\n",
    "\n",
    "data,clusterids = clusterData(growthRDD,K)\n",
    "\n",
    "for i,x in enumerate(growthList):\n",
    "    growthList[i][2] = (clusterids[i])\n"
   ]
  },
  {
   "cell_type": "code",
   "execution_count": 8,
   "id": "650d62e8",
   "metadata": {},
   "outputs": [],
   "source": [
    "clusterList = [[] for x in range(0,K)]\n",
    "diffList = [[] for x in range(0,K)]\n",
    "genreList = [{} for x in range(0,K)]\n",
    "diffDict = [[] for x in range(0,K)]\n",
    "\n",
    "\n",
    "for x in growthList:\n",
    "    clusterList[x[2]].append(int(x[0]))\n",
    "    \n",
    "for x in growthList:\n",
    "    diffList[x[2]].append((int(x[0]),x[1]))\n",
    "                          \n",
    "\n",
    "genreLens = [len(x) for x in clusterList]\n",
    "\n",
    "for i,x in enumerate(clusterList):\n",
    "    for y in x:\n",
    "        idGenres = genreDict[y]\n",
    "        for z in idGenres:\n",
    "            if z != '':\n",
    "                if z in genreList[i]:\n",
    "                    genreList[i][z] += 1\n",
    "                else:\n",
    "                    genreList[i][z] = 1  \n",
    "                    \n",
    "for i,x in enumerate(genreList):\n",
    "    z = sorted(list(x.items()),key = lambda x: x[1],reverse=True)\n",
    "    genreList[i] = z\n",
    "\n",
    "for i,x in enumerate(genreList):\n",
    "    for j,y in enumerate(x):\n",
    "        genreList[i][j] = (y[0],round((y[1]/genreLens[i]) * 100,2))\n",
    "\n",
    "        \n",
    "for i,x in enumerate(diffList):\n",
    "    differentialTotal = 0\n",
    "    for y in x:\n",
    "        differential = y[1][0] - y[1][1]\n",
    "        differentialTotal += differential\n",
    "        \n",
    "    differentialAvg = differentialTotal/len(x)\n",
    "    \n",
    "    diffDict[i] = differentialAvg\n",
    "    \n",
    "    \n"
   ]
  },
  {
   "cell_type": "markdown",
   "id": "4ad126b6",
   "metadata": {},
   "source": [
    " # Step 4 - Visualization"
   ]
  },
  {
   "cell_type": "markdown",
   "id": "b1e5a838",
   "metadata": {},
   "source": [
    "maybe plot some clusters\n",
    "\n",
    "\n",
    "show seasonal/monthly/yearly player data and change based on other information on the clusters (genre, developer, release date, price)\n",
    "\n",
    "some questions i will probably be able to answer and or visualize:\n",
    "\n",
    "what genres got more popular over 4 years?\n",
    "\n",
    "what genres got less popular over 4 years?\n",
    "\n",
    "is there a correlation between season/month and genre popularity?\n",
    "\n",
    "what correlation is there between release date and player count? for different genres?\n",
    "\n",
    "what correlation is there between price and player count? \n",
    "\n",
    "\n",
    "\n",
    "\n"
   ]
  },
  {
   "cell_type": "code",
   "execution_count": 9,
   "id": "5892dbec",
   "metadata": {},
   "outputs": [],
   "source": [
    "def normalize(data):\n",
    "    return [float(x)/max(data) for x in data]\n",
    "    \n",
    "def plotFoodClusters(data, cluster_ids):\n",
    "    # Plot the clusters with a scatter plot\n",
    "    # HINT: ref[4]\n",
    "    data = numpy.array(data.collect())\n",
    "    ax = plt.axes()\n",
    "    ax.set_facecolor('white')\n",
    "    plt.rcParams['figure.facecolor'] = 'white'\n",
    "    plt.scatter(data[:,0], data[:,1], c=cluster_ids, s=1,cmap='tab10')\n",
    "    # Define axis labels and plot title\n",
    "    plt.xlabel('2019-2020 Change')\n",
    "    plt.ylabel('2017-2019 Change')\n",
    "    plt.title('4 Year Increase vs Covid Increase')\n",
    "    plt.colorbar()\n",
    "    plt.axhline(0, color='black',lw=.5)\n",
    "    plt.axvline(0, color='black',lw=.5)\n",
    "\n",
    "    plt.show()\n",
    "    plt.clf()\n",
    "\n",
    "def plotGenrePercentages(data,graphType):\n",
    "    bigList = []\n",
    "    criteria = []\n",
    "    critDict = {}\n",
    "            \n",
    "    for i,x in enumerate(data):\n",
    "        #print('Cluster: '  + str(i) )\n",
    "        #print('      ' , x)\n",
    "        \n",
    "        \n",
    "        if(graphType == 'singleMulti'):\n",
    "            criteria = ['Singleplayer','Multiplayer']\n",
    "        elif(graphType == 'genre'):\n",
    "            criteria = ['RPG','Shooter','Sports','Simulation','Strategy']\n",
    "        elif(graphType == 'difficult'):\n",
    "            criteria = ['Difficult','Casual']\n",
    "            \n",
    "        critDict = {x:-1 for x in criteria}\n",
    "        \n",
    "        \n",
    "        \n",
    "        for y in x:\n",
    "            if y[0] in critDict:\n",
    "                critDict[y[0]] = y[1]\n",
    "        coolList = list(critDict.values())\n",
    "        coolList.insert(0,i)\n",
    "        #print(coolList)\n",
    "        bigList.append(coolList)\n",
    "        #for x in clusterList[i]:\n",
    "            #print(idName[x])\n",
    "        #print('')\n",
    "        \n",
    "    criteria.insert(0,'Cluster')\n",
    "    plotDf = pandas.DataFrame(bigList,columns=criteria)\n",
    "    #print(plotDf)\n",
    "    plotDf.plot(x='Cluster',kind='bar',stacked=True,title='silly')\n",
    "    \n",
    "def plotCovidChange(data):\n",
    "    print(data)\n",
    "    df = pandas.DataFrame([data],columns = [x for x in range(0,K)] )\n",
    "    print(df)\n",
    "    df=df.T\n",
    "    print(df)\n",
    "    df[0].plot(kind='bar')\n",
    "    plt.title(\"Game Cluster Covid Population Differential\")\n",
    "    plt.ylabel(\"Average Covid Pop. Change\")\n",
    "    plt.xlabel(\"Cluster\")\n",
    "    plt.axhline(0, color='black',lw=.3)\n",
    "\n",
    "    "
   ]
  },
  {
   "cell_type": "code",
   "execution_count": 10,
   "id": "bac2ff35",
   "metadata": {},
   "outputs": [
    {
     "data": {
      "image/png": "[encoded data removed]",
      "text/plain": [
       "<Figure size 432x288 with 2 Axes>"
      ]
     },
     "metadata": {
      "needs_background": "light"
     },
     "output_type": "display_data"
    },
    {
     "name": "stdout",
     "output_type": "stream",
     "text": [
      "[-33.611562500000005, -324.25714285714287, 23.593363363363355, 40.41426666666667, -28.378333333333345, 146.22, 11.113764705882348]\n",
      "           0           1          2          3          4       5          6\n",
      "0 -33.611563 -324.257143  23.593363  40.414267 -28.378333  146.22  11.113765\n",
      "            0\n",
      "0  -33.611563\n",
      "1 -324.257143\n",
      "2   23.593363\n",
      "3   40.414267\n",
      "4  -28.378333\n",
      "5  146.220000\n",
      "6   11.113765\n"
     ]
    },
    {
     "data": {
      "image/png": "[encoded data removed]",
      "text/plain": [
       "<Figure size 432x288 with 1 Axes>"
      ]
     },
     "metadata": {},
     "output_type": "display_data"
    },
    {
     "data": {
      "image/png": "[encoded data removed]",
      "text/plain": [
       "<Figure size 432x288 with 1 Axes>"
      ]
     },
     "metadata": {},
     "output_type": "display_data"
    },
    {
     "data": {
      "image/png": "[encoded data removed]",
      "text/plain": [
       "<Figure size 432x288 with 1 Axes>"
      ]
     },
     "metadata": {},
     "output_type": "display_data"
    },
    {
     "data": {
      "image/png": "[encoded data removed]",
      "text/plain": [
       "<Figure size 432x288 with 1 Axes>"
      ]
     },
     "metadata": {},
     "output_type": "display_data"
    }
   ],
   "source": [
    "plotFoodClusters(data,clusterids)\n",
    "plotCovidChange(diffDict)\n",
    "\n",
    "plotGenrePercentages(genreList,'singleMulti')\n",
    "plotGenrePercentages(genreList,'genre')\n",
    "plotGenrePercentages(genreList,'difficult')\n"
   ]
  },
  {
   "cell_type": "code",
   "execution_count": null,
   "id": "fe6ca351",
   "metadata": {},
   "outputs": [],
   "source": []
  },
  {
   "cell_type": "code",
   "execution_count": null,
   "id": "9e5bbd9e",
   "metadata": {},
   "outputs": [],
   "source": []
  }
 ],
 "metadata": {
  "kernelspec": {
   "display_name": "Python 3 (ipykernel)",
   "language": "python",
   "name": "python3"
  },
  "language_info": {
   "codemirror_mode": {
    "name": "ipython",
    "version": 3
   },
   "file_extension": ".py",
   "mimetype": "text/x-python",
   "name": "python",
   "nbconvert_exporter": "python",
   "pygments_lexer": "ipython3",
   "version": "3.9.7"
  }
 },
 "nbformat": 4,
 "nbformat_minor": 5
}
